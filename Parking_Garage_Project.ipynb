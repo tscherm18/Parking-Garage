{
  "cells": [
    {
      "cell_type": "markdown",
      "metadata": {
        "id": "ukzAa62t5GLx"
      },
      "source": [
        "# Parking Garage Project\n",
        "\n",
        "Your assignment for today is to create a parking garage class to get more familiar with Object Oriented Programming(OOP).\n",
        "\n",
        "Your parking gargage class should have the following methods:\n",
        "- takeTicket\n",
        "   - This should decrease the amount of tickets available by 1\n",
        "   - This should decrease the amount of parkingSpaces available by 1\n",
        "- payForParking\n",
        "   - Display an input that waits for an amount from the user and store it in a variable\n",
        "   - If the payment variable is not empty then ->  display a message to the user that their ticket has been paid and they have 15mins to leave\n",
        "   - This should update the \"currentTicket\" dictionary key \"paid\" to True\n",
        "-leaveGarage\n",
        "   - If the ticket has been paid, display a message of \"Thank You, have a nice day\"\n",
        "   - If the ticket has not been paid, display an input prompt for payment\n",
        "      - Once paid, display message \"Thank you, have a nice day!\"\n",
        "   - Update parkingSpaces list to increase by 1\n",
        "   - Update tickets list to increase by 1\n",
        "\n",
        "You will need a few attributes as well:\n",
        "- tickets -> list\n",
        "- parkingSpaces -> list\n",
        "- currentTicket -> dictionary"
      ]
    },
    {
      "cell_type": "code",
      "execution_count": 33,
      "metadata": {
        "id": "y-Zbxnlw5GL1",
        "outputId": "568ac340-1af5-4307-8f6f-0ef54c828308",
        "colab": {
          "base_uri": "https://localhost:8080/"
        }
      },
      "outputs": [
        {
          "output_type": "stream",
          "name": "stdout",
          "text": [
            "Your total number of tickets is: 9\n",
            "Your total number of parking spaces is: 14\n",
            "Your total number of tickets is: 8\n",
            "Your total number of parking spaces is: 13\n",
            "Your total number of tickets is: 7\n",
            "Your total number of parking spaces is: 12\n",
            "How much are you paying? 20\n",
            "Thank you for paying. You have 15 minutes leave.\n",
            "Your total number of tickets is: 8\n",
            "Your total number of parking spaces is: 13\n",
            "Thank you, have a nice day!\n"
          ]
        }
      ],
      "source": [
        "# Your Code will go here\n",
        "\n",
        "class ParkingGarage():\n",
        "\n",
        "    tickets = []\n",
        "    parkingSpaces = []\n",
        "    currentTicket = {}\n",
        "    def __init__(self, tickets, parkingSpaces, currentTicket):\n",
        "        self.tickets = tickets\n",
        "        self.parkingSpaces = parkingSpaces\n",
        "        self.currentTicket = currentTicket\n",
        "\n",
        "    def takeTicket(self):\n",
        "        self.tickets -= 1\n",
        "        self.parkingSpaces -= 1\n",
        "        print(\"Your total number of tickets is: \" + str(self.tickets))\n",
        "        print(\"Your total number of parking spaces is: \" + str(self.parkingSpaces))\n",
        "\n",
        "    def payForParking(self):\n",
        "        payment = input(\"How much are you paying? \")\n",
        "        while self.currentTicket[\"paid\"] == False:\n",
        "          if int(payment) == 0 or payment == '':\n",
        "              payment = input(\"You have not paid. Please enter payment: \")\n",
        "          else:\n",
        "              self.currentTicket[\"paid\"] = True\n",
        "              print(\"Thank you for paying. You have 15 minutes leave.\")\n",
        "\n",
        "    def leaveGarage(self):\n",
        "        if self.currentTicket[\"paid\"] == True:\n",
        "            self.parkingSpaces += 1\n",
        "            self.tickets += 1\n",
        "            print(\"Your total number of tickets is: \" + str(self.tickets))\n",
        "            print(\"Your total number of parking spaces is: \" + str(self.parkingSpaces))\n",
        "            print(\"Thank you, have a nice day!\")\n",
        "        else:\n",
        "            self.payForParking()\n",
        "            self.leaveGarage()\n",
        "\n",
        "\n",
        "parking = ParkingGarage(10, 15, {\"paid\": False})\n",
        "parking.takeTicket()\n",
        "parking.takeTicket()\n",
        "parking.takeTicket()\n",
        "parking.payForParking()\n",
        "parking.leaveGarage()\n"
      ]
    }
  ],
  "metadata": {
    "kernelspec": {
      "display_name": "Python 3",
      "language": "python",
      "name": "python3"
    },
    "language_info": {
      "codemirror_mode": {
        "name": "ipython",
        "version": 3
      },
      "file_extension": ".py",
      "mimetype": "text/x-python",
      "name": "python",
      "nbconvert_exporter": "python",
      "pygments_lexer": "ipython3",
      "version": "3.7.3"
    },
    "colab": {
      "provenance": []
    }
  },
  "nbformat": 4,
  "nbformat_minor": 0
}